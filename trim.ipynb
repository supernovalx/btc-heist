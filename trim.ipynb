{
 "cells": [
  {
   "cell_type": "code",
   "execution_count": 1,
   "metadata": {},
   "outputs": [],
   "source": [
    "import pandas as pd"
   ]
  },
  {
   "cell_type": "code",
   "execution_count": 9,
   "metadata": {},
   "outputs": [
    {
     "data": {
      "text/html": [
       "<div>\n",
       "<style scoped>\n",
       "    .dataframe tbody tr th:only-of-type {\n",
       "        vertical-align: middle;\n",
       "    }\n",
       "\n",
       "    .dataframe tbody tr th {\n",
       "        vertical-align: top;\n",
       "    }\n",
       "\n",
       "    .dataframe thead th {\n",
       "        text-align: right;\n",
       "    }\n",
       "</style>\n",
       "<table border=\"1\" class=\"dataframe\">\n",
       "  <thead>\n",
       "    <tr style=\"text-align: right;\">\n",
       "      <th></th>\n",
       "      <th>address</th>\n",
       "      <th>balance</th>\n",
       "    </tr>\n",
       "  </thead>\n",
       "  <tbody>\n",
       "    <tr>\n",
       "      <th>0</th>\n",
       "      <td>34xp4vRoCGJym3xR7yCVPFHoCNxv4Twseo</td>\n",
       "      <td>24859738634319</td>\n",
       "    </tr>\n",
       "    <tr>\n",
       "      <th>1</th>\n",
       "      <td>bc1qgdjqv0av3q56jvd82tkdjpy7gdp9ut8tlqmgrpmv24...</td>\n",
       "      <td>17801008822946</td>\n",
       "    </tr>\n",
       "    <tr>\n",
       "      <th>2</th>\n",
       "      <td>38Xnrq8MZiKmYmwobbYdZQ5nnCbX1qvQfE</td>\n",
       "      <td>11735105646584</td>\n",
       "    </tr>\n",
       "    <tr>\n",
       "      <th>3</th>\n",
       "      <td>bc1ql49ydapnjafl5t2cp9zqpjwe6pdgmxy98859v2</td>\n",
       "      <td>9650019922151</td>\n",
       "    </tr>\n",
       "    <tr>\n",
       "      <th>4</th>\n",
       "      <td>bc1qazcm763858nkj2dj986etajv6wquslv8uxwczt</td>\n",
       "      <td>9464330614020</td>\n",
       "    </tr>\n",
       "    <tr>\n",
       "      <th>...</th>\n",
       "      <td>...</td>\n",
       "      <td>...</td>\n",
       "    </tr>\n",
       "    <tr>\n",
       "      <th>2999995</th>\n",
       "      <td>3HRfkWPsb6FwMjBVLzCbuR5UduSnV41tTu</td>\n",
       "      <td>19082622</td>\n",
       "    </tr>\n",
       "    <tr>\n",
       "      <th>2999996</th>\n",
       "      <td>bc1qc553suvzh55nuchfzz8n6sh5akmz2wkezek46v</td>\n",
       "      <td>19082618</td>\n",
       "    </tr>\n",
       "    <tr>\n",
       "      <th>2999997</th>\n",
       "      <td>bc1q4ccd0355nfnc4ftytmffw66lken9gktkgqhux5</td>\n",
       "      <td>19082600</td>\n",
       "    </tr>\n",
       "    <tr>\n",
       "      <th>2999998</th>\n",
       "      <td>36g527hBJ236famMpJkLBUW53Krf4iEgUC</td>\n",
       "      <td>19082554</td>\n",
       "    </tr>\n",
       "    <tr>\n",
       "      <th>2999999</th>\n",
       "      <td>bc1qx7j3wcn7zz5czeqpjfxggjwlj04wg9f6txyrv4</td>\n",
       "      <td>19082538</td>\n",
       "    </tr>\n",
       "  </tbody>\n",
       "</table>\n",
       "<p>3000000 rows × 2 columns</p>\n",
       "</div>"
      ],
      "text/plain": [
       "                                                   address         balance\n",
       "0                       34xp4vRoCGJym3xR7yCVPFHoCNxv4Twseo  24859738634319\n",
       "1        bc1qgdjqv0av3q56jvd82tkdjpy7gdp9ut8tlqmgrpmv24...  17801008822946\n",
       "2                       38Xnrq8MZiKmYmwobbYdZQ5nnCbX1qvQfE  11735105646584\n",
       "3               bc1ql49ydapnjafl5t2cp9zqpjwe6pdgmxy98859v2   9650019922151\n",
       "4               bc1qazcm763858nkj2dj986etajv6wquslv8uxwczt   9464330614020\n",
       "...                                                    ...             ...\n",
       "2999995                 3HRfkWPsb6FwMjBVLzCbuR5UduSnV41tTu        19082622\n",
       "2999996         bc1qc553suvzh55nuchfzz8n6sh5akmz2wkezek46v        19082618\n",
       "2999997         bc1q4ccd0355nfnc4ftytmffw66lken9gktkgqhux5        19082600\n",
       "2999998                 36g527hBJ236famMpJkLBUW53Krf4iEgUC        19082554\n",
       "2999999         bc1qx7j3wcn7zz5czeqpjfxggjwlj04wg9f6txyrv4        19082538\n",
       "\n",
       "[3000000 rows x 2 columns]"
      ]
     },
     "execution_count": 9,
     "metadata": {},
     "output_type": "execute_result"
    }
   ],
   "source": [
    "df = pd.read_csv(\n",
    "    \"./blockchair_bitcoin_addresses_and_balance_LATEST.tsv\",\n",
    "    delimiter=\"\\t\",\n",
    "    nrows=3000000,\n",
    ")\n",
    "df"
   ]
  },
  {
   "cell_type": "code",
   "execution_count": 10,
   "metadata": {},
   "outputs": [
    {
     "name": "stdout",
     "output_type": "stream",
     "text": [
      "<class 'pandas.core.frame.DataFrame'>\n",
      "RangeIndex: 3000000 entries, 0 to 2999999\n",
      "Data columns (total 2 columns):\n",
      " #   Column   Dtype \n",
      "---  ------   ----- \n",
      " 0   address  object\n",
      " 1   balance  int64 \n",
      "dtypes: int64(1), object(1)\n",
      "memory usage: 294.6 MB\n"
     ]
    }
   ],
   "source": [
    "df.info(memory_usage=\"deep\")"
   ]
  },
  {
   "cell_type": "code",
   "execution_count": 13,
   "metadata": {},
   "outputs": [
    {
     "data": {
      "text/plain": [
       "182999999"
      ]
     },
     "execution_count": 13,
     "metadata": {},
     "output_type": "execute_result"
    }
   ],
   "source": [
    "open(\"addresses.txt\", \"w\").write(df[\"address\"].to_string())"
   ]
  },
  {
   "cell_type": "code",
   "execution_count": 14,
   "metadata": {},
   "outputs": [],
   "source": [
    "df[\"address\"].to_csv(\"addresses.txt\", header=False, index=False)"
   ]
  },
  {
   "cell_type": "code",
   "execution_count": null,
   "metadata": {},
   "outputs": [],
   "source": []
  }
 ],
 "metadata": {
  "kernelspec": {
   "display_name": "Python 3",
   "language": "python",
   "name": "python3"
  },
  "language_info": {
   "codemirror_mode": {
    "name": "ipython",
    "version": 3
   },
   "file_extension": ".py",
   "mimetype": "text/x-python",
   "name": "python",
   "nbconvert_exporter": "python",
   "pygments_lexer": "ipython3",
   "version": "3.10.6"
  },
  "orig_nbformat": 4
 },
 "nbformat": 4,
 "nbformat_minor": 2
}
